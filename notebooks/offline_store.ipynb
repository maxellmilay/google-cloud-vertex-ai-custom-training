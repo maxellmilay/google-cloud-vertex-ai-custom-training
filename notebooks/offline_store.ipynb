{
 "cells": [
  {
   "cell_type": "code",
   "execution_count": 1,
   "metadata": {},
   "outputs": [
    {
     "name": "stdout",
     "output_type": "stream",
     "text": [
      "Requirement already satisfied: bigframes in /home/mirai/.pyenv/versions/3.12.2/lib/python3.12/site-packages (1.17.0)\n",
      "Requirement already satisfied: cloudpickle>=2.0.0 in /home/mirai/.pyenv/versions/3.12.2/lib/python3.12/site-packages (from bigframes) (3.0.0)\n",
      "Requirement already satisfied: fsspec>=2023.3.0 in /home/mirai/.pyenv/versions/3.12.2/lib/python3.12/site-packages (from bigframes) (2024.9.0)\n",
      "Requirement already satisfied: gcsfs>=2023.3.0 in /home/mirai/.pyenv/versions/3.12.2/lib/python3.12/site-packages (from bigframes) (2024.9.0.post1)\n",
      "Requirement already satisfied: geopandas>=0.12.2 in /home/mirai/.pyenv/versions/3.12.2/lib/python3.12/site-packages (from bigframes) (1.0.1)\n",
      "Requirement already satisfied: google-auth<3.0dev,>=2.15.0 in /home/mirai/.pyenv/versions/3.12.2/lib/python3.12/site-packages (from bigframes) (2.34.0)\n",
      "Requirement already satisfied: google-cloud-bigtable>=2.24.0 in /home/mirai/.pyenv/versions/3.12.2/lib/python3.12/site-packages (from bigframes) (2.26.0)\n",
      "Requirement already satisfied: google-cloud-pubsub>=2.21.4 in /home/mirai/.pyenv/versions/3.12.2/lib/python3.12/site-packages (from bigframes) (2.23.1)\n",
      "Requirement already satisfied: google-cloud-bigquery>=3.16.0 in /home/mirai/.pyenv/versions/3.12.2/lib/python3.12/site-packages (from google-cloud-bigquery[bqstorage,pandas]>=3.16.0->bigframes) (3.25.0)\n",
      "Requirement already satisfied: google-cloud-functions>=1.12.0 in /home/mirai/.pyenv/versions/3.12.2/lib/python3.12/site-packages (from bigframes) (1.17.0)\n",
      "Requirement already satisfied: google-cloud-bigquery-connection>=1.12.0 in /home/mirai/.pyenv/versions/3.12.2/lib/python3.12/site-packages (from bigframes) (1.15.5)\n",
      "Requirement already satisfied: google-cloud-iam>=2.12.1 in /home/mirai/.pyenv/versions/3.12.2/lib/python3.12/site-packages (from bigframes) (2.15.2)\n",
      "Requirement already satisfied: google-cloud-resource-manager>=1.10.3 in /home/mirai/.pyenv/versions/3.12.2/lib/python3.12/site-packages (from bigframes) (1.12.5)\n",
      "Requirement already satisfied: google-cloud-storage>=2.0.0 in /home/mirai/.pyenv/versions/3.12.2/lib/python3.12/site-packages (from bigframes) (2.18.2)\n",
      "Requirement already satisfied: ibis-framework<9.0.0dev,>=8.0.0 in /home/mirai/.pyenv/versions/3.12.2/lib/python3.12/site-packages (from ibis-framework[bigquery]<9.0.0dev,>=8.0.0->bigframes) (8.0.0)\n",
      "Requirement already satisfied: jellyfish>=0.8.9 in /home/mirai/.pyenv/versions/3.12.2/lib/python3.12/site-packages (from bigframes) (1.1.0)\n",
      "Requirement already satisfied: numpy>=1.24.0 in /home/mirai/.pyenv/versions/3.12.2/lib/python3.12/site-packages (from bigframes) (1.26.4)\n",
      "Requirement already satisfied: pandas>=1.5.3 in /home/mirai/.pyenv/versions/3.12.2/lib/python3.12/site-packages (from bigframes) (2.2.2)\n",
      "Requirement already satisfied: pyarrow>=10.0.1 in /home/mirai/.pyenv/versions/3.12.2/lib/python3.12/site-packages (from bigframes) (15.0.2)\n",
      "Requirement already satisfied: pydata-google-auth>=1.8.2 in /home/mirai/.pyenv/versions/3.12.2/lib/python3.12/site-packages (from bigframes) (1.8.2)\n",
      "Requirement already satisfied: requests>=2.27.1 in /home/mirai/.pyenv/versions/3.12.2/lib/python3.12/site-packages (from bigframes) (2.32.0)\n",
      "Requirement already satisfied: scikit-learn>=1.2.2 in /home/mirai/.pyenv/versions/3.12.2/lib/python3.12/site-packages (from bigframes) (1.4.2)\n",
      "Requirement already satisfied: sqlalchemy<3.0dev,>=1.4 in /home/mirai/.pyenv/versions/3.12.2/lib/python3.12/site-packages (from bigframes) (2.0.27)\n",
      "Requirement already satisfied: sqlglot<=20.11,>=20.8.0 in /home/mirai/.pyenv/versions/3.12.2/lib/python3.12/site-packages (from bigframes) (20.11.0)\n",
      "Requirement already satisfied: tabulate>=0.9 in /home/mirai/.pyenv/versions/3.12.2/lib/python3.12/site-packages (from bigframes) (0.9.0)\n",
      "Requirement already satisfied: ipywidgets>=7.7.1 in /home/mirai/.pyenv/versions/3.12.2/lib/python3.12/site-packages (from bigframes) (8.1.2)\n",
      "Requirement already satisfied: humanize>=4.6.0 in /home/mirai/.pyenv/versions/3.12.2/lib/python3.12/site-packages (from bigframes) (4.10.0)\n",
      "Requirement already satisfied: matplotlib>=3.7.1 in /home/mirai/.pyenv/versions/3.12.2/lib/python3.12/site-packages (from bigframes) (3.8.4)\n",
      "Requirement already satisfied: aiohttp!=4.0.0a0,!=4.0.0a1 in /home/mirai/.pyenv/versions/3.12.2/lib/python3.12/site-packages (from gcsfs>=2023.3.0->bigframes) (3.10.5)\n",
      "Requirement already satisfied: decorator>4.1.2 in /home/mirai/.pyenv/versions/3.12.2/lib/python3.12/site-packages (from gcsfs>=2023.3.0->bigframes) (5.1.1)\n",
      "Requirement already satisfied: google-auth-oauthlib in /home/mirai/.pyenv/versions/3.12.2/lib/python3.12/site-packages (from gcsfs>=2023.3.0->bigframes) (1.2.1)\n",
      "Requirement already satisfied: pyogrio>=0.7.2 in /home/mirai/.pyenv/versions/3.12.2/lib/python3.12/site-packages (from geopandas>=0.12.2->bigframes) (0.9.0)\n",
      "Requirement already satisfied: packaging in /home/mirai/.pyenv/versions/3.12.2/lib/python3.12/site-packages (from geopandas>=0.12.2->bigframes) (24.0)\n",
      "Requirement already satisfied: pyproj>=3.3.0 in /home/mirai/.pyenv/versions/3.12.2/lib/python3.12/site-packages (from geopandas>=0.12.2->bigframes) (3.6.1)\n",
      "Requirement already satisfied: shapely>=2.0.0 in /home/mirai/.pyenv/versions/3.12.2/lib/python3.12/site-packages (from geopandas>=0.12.2->bigframes) (2.0.6)\n",
      "Requirement already satisfied: cachetools<6.0,>=2.0.0 in /home/mirai/.pyenv/versions/3.12.2/lib/python3.12/site-packages (from google-auth<3.0dev,>=2.15.0->bigframes) (5.5.0)\n",
      "Requirement already satisfied: pyasn1-modules>=0.2.1 in /home/mirai/.pyenv/versions/3.12.2/lib/python3.12/site-packages (from google-auth<3.0dev,>=2.15.0->bigframes) (0.4.1)\n",
      "Requirement already satisfied: rsa<5,>=3.1.4 in /home/mirai/.pyenv/versions/3.12.2/lib/python3.12/site-packages (from google-auth<3.0dev,>=2.15.0->bigframes) (4.9)\n",
      "Requirement already satisfied: google-api-core!=2.0.*,!=2.1.*,!=2.10.*,!=2.2.*,!=2.3.*,!=2.4.*,!=2.5.*,!=2.6.*,!=2.7.*,!=2.8.*,!=2.9.*,<3.0.0dev,>=1.34.1 in /home/mirai/.pyenv/versions/3.12.2/lib/python3.12/site-packages (from google-api-core[grpc]!=2.0.*,!=2.1.*,!=2.10.*,!=2.2.*,!=2.3.*,!=2.4.*,!=2.5.*,!=2.6.*,!=2.7.*,!=2.8.*,!=2.9.*,<3.0.0dev,>=1.34.1->google-cloud-bigquery>=3.16.0->google-cloud-bigquery[bqstorage,pandas]>=3.16.0->bigframes) (2.19.2)\n",
      "Requirement already satisfied: google-cloud-core<3.0.0dev,>=1.6.0 in /home/mirai/.pyenv/versions/3.12.2/lib/python3.12/site-packages (from google-cloud-bigquery>=3.16.0->google-cloud-bigquery[bqstorage,pandas]>=3.16.0->bigframes) (2.4.1)\n",
      "Requirement already satisfied: google-resumable-media<3.0dev,>=0.6.0 in /home/mirai/.pyenv/versions/3.12.2/lib/python3.12/site-packages (from google-cloud-bigquery>=3.16.0->google-cloud-bigquery[bqstorage,pandas]>=3.16.0->bigframes) (2.7.2)\n",
      "Requirement already satisfied: python-dateutil<3.0dev,>=2.7.2 in /home/mirai/.pyenv/versions/3.12.2/lib/python3.12/site-packages (from google-cloud-bigquery>=3.16.0->google-cloud-bigquery[bqstorage,pandas]>=3.16.0->bigframes) (2.9.0.post0)\n",
      "Requirement already satisfied: proto-plus<2.0.0dev,>=1.22.3 in /home/mirai/.pyenv/versions/3.12.2/lib/python3.12/site-packages (from google-cloud-bigquery-connection>=1.12.0->bigframes) (1.24.0)\n",
      "Requirement already satisfied: protobuf!=4.21.0,!=4.21.1,!=4.21.2,!=4.21.3,!=4.21.4,!=4.21.5,<6.0.0dev,>=3.20.2 in /home/mirai/.pyenv/versions/3.12.2/lib/python3.12/site-packages (from google-cloud-bigquery-connection>=1.12.0->bigframes) (5.28.1)\n",
      "Requirement already satisfied: grpc-google-iam-v1<1.0.0dev,>=0.12.4 in /home/mirai/.pyenv/versions/3.12.2/lib/python3.12/site-packages (from google-cloud-bigquery-connection>=1.12.0->bigframes) (0.13.1)\n",
      "Requirement already satisfied: google-cloud-bigquery-storage<3.0.0dev,>=2.6.0 in /home/mirai/.pyenv/versions/3.12.2/lib/python3.12/site-packages (from google-cloud-bigquery[bqstorage,pandas]>=3.16.0->bigframes) (2.26.0)\n",
      "Requirement already satisfied: grpcio<2.0dev,>=1.47.0 in /home/mirai/.pyenv/versions/3.12.2/lib/python3.12/site-packages (from google-cloud-bigquery[bqstorage,pandas]>=3.16.0->bigframes) (1.66.1)\n",
      "Requirement already satisfied: db-dtypes<2.0.0dev,>=0.3.0 in /home/mirai/.pyenv/versions/3.12.2/lib/python3.12/site-packages (from google-cloud-bigquery[bqstorage,pandas]>=3.16.0->bigframes) (1.3.0)\n",
      "Requirement already satisfied: grpcio-status>=1.33.2 in /home/mirai/.pyenv/versions/3.12.2/lib/python3.12/site-packages (from google-cloud-pubsub>=2.21.4->bigframes) (1.66.1)\n",
      "Requirement already satisfied: google-crc32c<2.0dev,>=1.0 in /home/mirai/.pyenv/versions/3.12.2/lib/python3.12/site-packages (from google-cloud-storage>=2.0.0->bigframes) (1.6.0)\n",
      "Requirement already satisfied: atpublic<5,>=2.3 in /home/mirai/.pyenv/versions/3.12.2/lib/python3.12/site-packages (from ibis-framework<9.0.0dev,>=8.0.0->ibis-framework[bigquery]<9.0.0dev,>=8.0.0->bigframes) (4.1.0)\n",
      "Requirement already satisfied: bidict<1,>=0.22.1 in /home/mirai/.pyenv/versions/3.12.2/lib/python3.12/site-packages (from ibis-framework<9.0.0dev,>=8.0.0->ibis-framework[bigquery]<9.0.0dev,>=8.0.0->bigframes) (0.23.1)\n",
      "Requirement already satisfied: multipledispatch<2,>=0.6 in /home/mirai/.pyenv/versions/3.12.2/lib/python3.12/site-packages (from ibis-framework<9.0.0dev,>=8.0.0->ibis-framework[bigquery]<9.0.0dev,>=8.0.0->bigframes) (1.0.0)\n",
      "Requirement already satisfied: parsy<3,>=2 in /home/mirai/.pyenv/versions/3.12.2/lib/python3.12/site-packages (from ibis-framework<9.0.0dev,>=8.0.0->ibis-framework[bigquery]<9.0.0dev,>=8.0.0->bigframes) (2.1)\n",
      "Requirement already satisfied: pyarrow-hotfix<1,>=0.4 in /home/mirai/.pyenv/versions/3.12.2/lib/python3.12/site-packages (from ibis-framework<9.0.0dev,>=8.0.0->ibis-framework[bigquery]<9.0.0dev,>=8.0.0->bigframes) (0.6)\n",
      "Requirement already satisfied: pytz>=2022.7 in /home/mirai/.pyenv/versions/3.12.2/lib/python3.12/site-packages (from ibis-framework<9.0.0dev,>=8.0.0->ibis-framework[bigquery]<9.0.0dev,>=8.0.0->bigframes) (2024.1)\n",
      "Requirement already satisfied: rich<14,>=12.4.4 in /home/mirai/.pyenv/versions/3.12.2/lib/python3.12/site-packages (from ibis-framework<9.0.0dev,>=8.0.0->ibis-framework[bigquery]<9.0.0dev,>=8.0.0->bigframes) (13.7.1)\n",
      "Requirement already satisfied: toolz<1,>=0.11 in /home/mirai/.pyenv/versions/3.12.2/lib/python3.12/site-packages (from ibis-framework<9.0.0dev,>=8.0.0->ibis-framework[bigquery]<9.0.0dev,>=8.0.0->bigframes) (0.12.1)\n",
      "Requirement already satisfied: typing-extensions<5,>=4.3.0 in /home/mirai/.pyenv/versions/3.12.2/lib/python3.12/site-packages (from ibis-framework<9.0.0dev,>=8.0.0->ibis-framework[bigquery]<9.0.0dev,>=8.0.0->bigframes) (4.11.0)\n",
      "Requirement already satisfied: comm>=0.1.3 in /home/mirai/.pyenv/versions/3.12.2/lib/python3.12/site-packages (from ipywidgets>=7.7.1->bigframes) (0.2.2)\n",
      "Requirement already satisfied: ipython>=6.1.0 in /home/mirai/.pyenv/versions/3.12.2/lib/python3.12/site-packages (from ipywidgets>=7.7.1->bigframes) (8.23.0)\n",
      "Requirement already satisfied: traitlets>=4.3.1 in /home/mirai/.pyenv/versions/3.12.2/lib/python3.12/site-packages (from ipywidgets>=7.7.1->bigframes) (5.14.2)\n",
      "Requirement already satisfied: widgetsnbextension~=4.0.10 in /home/mirai/.pyenv/versions/3.12.2/lib/python3.12/site-packages (from ipywidgets>=7.7.1->bigframes) (4.0.10)\n",
      "Requirement already satisfied: jupyterlab-widgets~=3.0.10 in /home/mirai/.pyenv/versions/3.12.2/lib/python3.12/site-packages (from ipywidgets>=7.7.1->bigframes) (3.0.10)\n",
      "Requirement already satisfied: contourpy>=1.0.1 in /home/mirai/.pyenv/versions/3.12.2/lib/python3.12/site-packages (from matplotlib>=3.7.1->bigframes) (1.2.1)\n",
      "Requirement already satisfied: cycler>=0.10 in /home/mirai/.pyenv/versions/3.12.2/lib/python3.12/site-packages (from matplotlib>=3.7.1->bigframes) (0.12.1)\n",
      "Requirement already satisfied: fonttools>=4.22.0 in /home/mirai/.pyenv/versions/3.12.2/lib/python3.12/site-packages (from matplotlib>=3.7.1->bigframes) (4.51.0)\n",
      "Requirement already satisfied: kiwisolver>=1.3.1 in /home/mirai/.pyenv/versions/3.12.2/lib/python3.12/site-packages (from matplotlib>=3.7.1->bigframes) (1.4.5)\n",
      "Requirement already satisfied: pillow>=8 in /home/mirai/.pyenv/versions/3.12.2/lib/python3.12/site-packages (from matplotlib>=3.7.1->bigframes) (10.4.0)\n",
      "Requirement already satisfied: pyparsing>=2.3.1 in /home/mirai/.pyenv/versions/3.12.2/lib/python3.12/site-packages (from matplotlib>=3.7.1->bigframes) (3.1.2)\n",
      "Requirement already satisfied: tzdata>=2022.7 in /home/mirai/.pyenv/versions/3.12.2/lib/python3.12/site-packages (from pandas>=1.5.3->bigframes) (2024.1)\n",
      "Requirement already satisfied: setuptools in /home/mirai/.pyenv/versions/3.12.2/lib/python3.12/site-packages (from pydata-google-auth>=1.8.2->bigframes) (69.5.1)\n",
      "Requirement already satisfied: charset-normalizer<4,>=2 in /home/mirai/.pyenv/versions/3.12.2/lib/python3.12/site-packages (from requests>=2.27.1->bigframes) (3.3.2)\n",
      "Requirement already satisfied: idna<4,>=2.5 in /home/mirai/.pyenv/versions/3.12.2/lib/python3.12/site-packages (from requests>=2.27.1->bigframes) (3.7)\n",
      "Requirement already satisfied: urllib3<3,>=1.21.1 in /home/mirai/.pyenv/versions/3.12.2/lib/python3.12/site-packages (from requests>=2.27.1->bigframes) (1.26.19)\n",
      "Requirement already satisfied: certifi>=2017.4.17 in /home/mirai/.pyenv/versions/3.12.2/lib/python3.12/site-packages (from requests>=2.27.1->bigframes) (2024.2.2)\n",
      "Requirement already satisfied: scipy>=1.6.0 in /home/mirai/.pyenv/versions/3.12.2/lib/python3.12/site-packages (from scikit-learn>=1.2.2->bigframes) (1.13.0)\n",
      "Requirement already satisfied: joblib>=1.2.0 in /home/mirai/.pyenv/versions/3.12.2/lib/python3.12/site-packages (from scikit-learn>=1.2.2->bigframes) (1.4.0)\n",
      "Requirement already satisfied: threadpoolctl>=2.0.0 in /home/mirai/.pyenv/versions/3.12.2/lib/python3.12/site-packages (from scikit-learn>=1.2.2->bigframes) (3.4.0)\n",
      "Requirement already satisfied: greenlet!=0.4.17 in /home/mirai/.pyenv/versions/3.12.2/lib/python3.12/site-packages (from sqlalchemy<3.0dev,>=1.4->bigframes) (3.0.3)\n",
      "Requirement already satisfied: aiohappyeyeballs>=2.3.0 in /home/mirai/.pyenv/versions/3.12.2/lib/python3.12/site-packages (from aiohttp!=4.0.0a0,!=4.0.0a1->gcsfs>=2023.3.0->bigframes) (2.4.0)\n",
      "Requirement already satisfied: aiosignal>=1.1.2 in /home/mirai/.pyenv/versions/3.12.2/lib/python3.12/site-packages (from aiohttp!=4.0.0a0,!=4.0.0a1->gcsfs>=2023.3.0->bigframes) (1.3.1)\n",
      "Requirement already satisfied: attrs>=17.3.0 in /home/mirai/.pyenv/versions/3.12.2/lib/python3.12/site-packages (from aiohttp!=4.0.0a0,!=4.0.0a1->gcsfs>=2023.3.0->bigframes) (23.2.0)\n",
      "Requirement already satisfied: frozenlist>=1.1.1 in /home/mirai/.pyenv/versions/3.12.2/lib/python3.12/site-packages (from aiohttp!=4.0.0a0,!=4.0.0a1->gcsfs>=2023.3.0->bigframes) (1.4.1)\n",
      "Requirement already satisfied: multidict<7.0,>=4.5 in /home/mirai/.pyenv/versions/3.12.2/lib/python3.12/site-packages (from aiohttp!=4.0.0a0,!=4.0.0a1->gcsfs>=2023.3.0->bigframes) (6.1.0)\n",
      "Requirement already satisfied: yarl<2.0,>=1.0 in /home/mirai/.pyenv/versions/3.12.2/lib/python3.12/site-packages (from aiohttp!=4.0.0a0,!=4.0.0a1->gcsfs>=2023.3.0->bigframes) (1.11.1)\n",
      "Requirement already satisfied: googleapis-common-protos<2.0.dev0,>=1.56.2 in /home/mirai/.pyenv/versions/3.12.2/lib/python3.12/site-packages (from google-api-core!=2.0.*,!=2.1.*,!=2.10.*,!=2.2.*,!=2.3.*,!=2.4.*,!=2.5.*,!=2.6.*,!=2.7.*,!=2.8.*,!=2.9.*,<3.0.0dev,>=1.34.1->google-api-core[grpc]!=2.0.*,!=2.1.*,!=2.10.*,!=2.2.*,!=2.3.*,!=2.4.*,!=2.5.*,!=2.6.*,!=2.7.*,!=2.8.*,!=2.9.*,<3.0.0dev,>=1.34.1->google-cloud-bigquery>=3.16.0->google-cloud-bigquery[bqstorage,pandas]>=3.16.0->bigframes) (1.63.2)\n",
      "Requirement already satisfied: requests-oauthlib>=0.7.0 in /home/mirai/.pyenv/versions/3.12.2/lib/python3.12/site-packages (from google-auth-oauthlib->gcsfs>=2023.3.0->bigframes) (2.0.0)\n",
      "Requirement already satisfied: jedi>=0.16 in /home/mirai/.pyenv/versions/3.12.2/lib/python3.12/site-packages (from ipython>=6.1.0->ipywidgets>=7.7.1->bigframes) (0.19.1)\n",
      "Requirement already satisfied: matplotlib-inline in /home/mirai/.pyenv/versions/3.12.2/lib/python3.12/site-packages (from ipython>=6.1.0->ipywidgets>=7.7.1->bigframes) (0.1.7)\n",
      "Requirement already satisfied: prompt-toolkit<3.1.0,>=3.0.41 in /home/mirai/.pyenv/versions/3.12.2/lib/python3.12/site-packages (from ipython>=6.1.0->ipywidgets>=7.7.1->bigframes) (3.0.43)\n",
      "Requirement already satisfied: pygments>=2.4.0 in /home/mirai/.pyenv/versions/3.12.2/lib/python3.12/site-packages (from ipython>=6.1.0->ipywidgets>=7.7.1->bigframes) (2.17.2)\n",
      "Requirement already satisfied: stack-data in /home/mirai/.pyenv/versions/3.12.2/lib/python3.12/site-packages (from ipython>=6.1.0->ipywidgets>=7.7.1->bigframes) (0.6.3)\n",
      "Requirement already satisfied: pexpect>4.3 in /home/mirai/.pyenv/versions/3.12.2/lib/python3.12/site-packages (from ipython>=6.1.0->ipywidgets>=7.7.1->bigframes) (4.9.0)\n",
      "Requirement already satisfied: pyasn1<0.7.0,>=0.4.6 in /home/mirai/.pyenv/versions/3.12.2/lib/python3.12/site-packages (from pyasn1-modules>=0.2.1->google-auth<3.0dev,>=2.15.0->bigframes) (0.6.1)\n",
      "Requirement already satisfied: six>=1.5 in /home/mirai/.pyenv/versions/3.12.2/lib/python3.12/site-packages (from python-dateutil<3.0dev,>=2.7.2->google-cloud-bigquery>=3.16.0->google-cloud-bigquery[bqstorage,pandas]>=3.16.0->bigframes) (1.16.0)\n",
      "Requirement already satisfied: markdown-it-py>=2.2.0 in /home/mirai/.pyenv/versions/3.12.2/lib/python3.12/site-packages (from rich<14,>=12.4.4->ibis-framework<9.0.0dev,>=8.0.0->ibis-framework[bigquery]<9.0.0dev,>=8.0.0->bigframes) (3.0.0)\n",
      "Requirement already satisfied: parso<0.9.0,>=0.8.3 in /home/mirai/.pyenv/versions/3.12.2/lib/python3.12/site-packages (from jedi>=0.16->ipython>=6.1.0->ipywidgets>=7.7.1->bigframes) (0.8.4)\n",
      "Requirement already satisfied: mdurl~=0.1 in /home/mirai/.pyenv/versions/3.12.2/lib/python3.12/site-packages (from markdown-it-py>=2.2.0->rich<14,>=12.4.4->ibis-framework<9.0.0dev,>=8.0.0->ibis-framework[bigquery]<9.0.0dev,>=8.0.0->bigframes) (0.1.2)\n",
      "Requirement already satisfied: ptyprocess>=0.5 in /home/mirai/.pyenv/versions/3.12.2/lib/python3.12/site-packages (from pexpect>4.3->ipython>=6.1.0->ipywidgets>=7.7.1->bigframes) (0.7.0)\n",
      "Requirement already satisfied: wcwidth in /home/mirai/.pyenv/versions/3.12.2/lib/python3.12/site-packages (from prompt-toolkit<3.1.0,>=3.0.41->ipython>=6.1.0->ipywidgets>=7.7.1->bigframes) (0.2.13)\n",
      "Requirement already satisfied: oauthlib>=3.0.0 in /home/mirai/.pyenv/versions/3.12.2/lib/python3.12/site-packages (from requests-oauthlib>=0.7.0->google-auth-oauthlib->gcsfs>=2023.3.0->bigframes) (3.2.2)\n",
      "Requirement already satisfied: executing>=1.2.0 in /home/mirai/.pyenv/versions/3.12.2/lib/python3.12/site-packages (from stack-data->ipython>=6.1.0->ipywidgets>=7.7.1->bigframes) (2.0.1)\n",
      "Requirement already satisfied: asttokens>=2.1.0 in /home/mirai/.pyenv/versions/3.12.2/lib/python3.12/site-packages (from stack-data->ipython>=6.1.0->ipywidgets>=7.7.1->bigframes) (2.4.1)\n",
      "Requirement already satisfied: pure-eval in /home/mirai/.pyenv/versions/3.12.2/lib/python3.12/site-packages (from stack-data->ipython>=6.1.0->ipywidgets>=7.7.1->bigframes) (0.2.2)\n",
      "Note: you may need to restart the kernel to use updated packages.\n"
     ]
    }
   ],
   "source": [
    "%pip install bigframes"
   ]
  },
  {
   "cell_type": "code",
   "execution_count": 2,
   "metadata": {},
   "outputs": [],
   "source": [
    "import os\n",
    "\n",
    "os.environ['GOOGLE_APPLICATION_CREDENTIALS'] = \"admin.json\""
   ]
  },
  {
   "cell_type": "code",
   "execution_count": 3,
   "metadata": {},
   "outputs": [],
   "source": [
    "PROJECT_ID = \"mlops-433612\"  # @param {type:\"string\"}\n",
    "LOCATION = \"us-central1\"  # @param {type:\"string\"}\n",
    "\n",
    "import vertexai\n",
    "\n",
    "vertexai.init(project=PROJECT_ID, location=LOCATION)"
   ]
  },
  {
   "cell_type": "code",
   "execution_count": 4,
   "metadata": {},
   "outputs": [
    {
     "name": "stderr",
     "output_type": "stream",
     "text": [
      "2024-09-15 21:25:27.304630: I external/local_xla/xla/tsl/cuda/cudart_stub.cc:32] Could not find cuda drivers on your machine, GPU will not be used.\n",
      "2024-09-15 21:25:27.308783: I external/local_xla/xla/tsl/cuda/cudart_stub.cc:32] Could not find cuda drivers on your machine, GPU will not be used.\n",
      "2024-09-15 21:25:27.324076: E external/local_xla/xla/stream_executor/cuda/cuda_fft.cc:485] Unable to register cuFFT factory: Attempting to register factory for plugin cuFFT when one has already been registered\n",
      "2024-09-15 21:25:27.343696: E external/local_xla/xla/stream_executor/cuda/cuda_dnn.cc:8454] Unable to register cuDNN factory: Attempting to register factory for plugin cuDNN when one has already been registered\n",
      "2024-09-15 21:25:27.348659: E external/local_xla/xla/stream_executor/cuda/cuda_blas.cc:1452] Unable to register cuBLAS factory: Attempting to register factory for plugin cuBLAS when one has already been registered\n",
      "2024-09-15 21:25:27.362568: I tensorflow/core/platform/cpu_feature_guard.cc:210] This TensorFlow binary is optimized to use available CPU instructions in performance-critical operations.\n",
      "To enable the following instructions: AVX2 FMA, in other operations, rebuild TensorFlow with the appropriate compiler flags.\n",
      "2024-09-15 21:25:28.517077: W tensorflow/compiler/tf2tensorrt/utils/py_utils.cc:38] TF-TRT Warning: Could not find TensorRT\n"
     ]
    },
    {
     "name": "stdout",
     "output_type": "stream",
     "text": [
      "Feature group found: <vertexai.resources.preview.feature_store.feature_group.FeatureGroup object at 0x7f2d23601a00> \n",
      "resource name: projects/994601067814/locations/us-central1/featureGroups/test_feature_group\n"
     ]
    }
   ],
   "source": [
    "from vertexai.resources.preview.feature_store import FeatureGroup\n",
    "from vertexai.resources.preview.feature_store import utils as fs_utils\n",
    "\n",
    "FEATURE_GROUP_ID = \"test_feature_group\"  # @param {type:\"string\"}\n",
    "DATASET_ID = \"featurestore_demo\"\n",
    "TABLE_ID = \"cleaned_table\"\n",
    "\n",
    "BQ_TABLE_URI = f'{PROJECT_ID}.{DATASET_ID}.{TABLE_ID}'\n",
    "\n",
    "feature_groups = FeatureGroup.list()\n",
    "\n",
    "# Find the feature group with the desired ID\n",
    "fg = next((fg for fg in feature_groups if fg.name == FEATURE_GROUP_ID), None)\n",
    "\n",
    "if fg:\n",
    "    print(f\"Feature group found: {fg}\")\n",
    "else:\n",
    "    print(f\"Feature group with ID {FEATURE_GROUP_ID} not found.\")"
   ]
  },
  {
   "cell_type": "code",
   "execution_count": 5,
   "metadata": {},
   "outputs": [],
   "source": [
    "from vertexai.resources.preview.feature_store import Feature\n",
    "\n",
    "feature_names = [\"Name\",\"Age\",\"Sex\",\"Fare\",\"Pclass\",\"SibSp\",\"PassengerId\",\"Survived\",\"Parch\",\"Ticket\",\"Cabin\",\"Embarked\"]\n",
    "features = []\n",
    "\n",
    "for feature in feature_names:\n",
    "   f: Feature = fg.get_feature(feature)\n",
    "   features.append(f)"
   ]
  },
  {
   "cell_type": "code",
   "execution_count": 11,
   "metadata": {},
   "outputs": [
    {
     "data": {
      "text/html": [
       "Query job 41e2eed5-db45-4b94-8bd3-c01257a319bd is DONE. 15.8 kB processed. <a target=\"_blank\" href=\"https://console.cloud.google.com/bigquery?project=mlops-433612&j=bq:us-central1:41e2eed5-db45-4b94-8bd3-c01257a319bd&page=queryresults\">Open Job</a>"
      ],
      "text/plain": [
       "<IPython.core.display.HTML object>"
      ]
     },
     "metadata": {},
     "output_type": "display_data"
    },
    {
     "data": {
      "text/html": [
       "Load job 9b06b271-22da-4141-a6df-a4c975487b5c is DONE. <a target=\"_blank\" href=\"https://console.cloud.google.com/bigquery?project=mlops-433612&j=bq:us-central1:9b06b271-22da-4141-a6df-a4c975487b5c&page=queryresults\">Open Job</a>"
      ],
      "text/plain": [
       "<IPython.core.display.HTML object>"
      ]
     },
     "metadata": {},
     "output_type": "display_data"
    },
    {
     "data": {
      "text/html": [
       "Query job f9f938fc-eaf2-4c31-a5cb-b6f6c4d3fd70 is DONE. 17.3 kB processed. <a target=\"_blank\" href=\"https://console.cloud.google.com/bigquery?project=mlops-433612&j=bq:us-central1:f9f938fc-eaf2-4c31-a5cb-b6f6c4d3fd70&page=queryresults\">Open Job</a>"
      ],
      "text/plain": [
       "<IPython.core.display.HTML object>"
      ]
     },
     "metadata": {},
     "output_type": "display_data"
    },
    {
     "data": {
      "text/html": [
       "Query job f08fc32c-4df0-44a8-a6da-82bade961d7a is DONE. 17.3 kB processed. <a target=\"_blank\" href=\"https://console.cloud.google.com/bigquery?project=mlops-433612&j=bq:us-central1:f08fc32c-4df0-44a8-a6da-82bade961d7a&page=queryresults\">Open Job</a>"
      ],
      "text/plain": [
       "<IPython.core.display.HTML object>"
      ]
     },
     "metadata": {},
     "output_type": "display_data"
    },
    {
     "data": {
      "text/html": [
       "Query job 918ebdc6-dab5-4f9b-9901-9ff6e3ad4083 is DONE. 18.7 kB processed. <a target=\"_blank\" href=\"https://console.cloud.google.com/bigquery?project=mlops-433612&j=bq:us-central1:918ebdc6-dab5-4f9b-9901-9ff6e3ad4083&page=queryresults\">Open Job</a>"
      ],
      "text/plain": [
       "<IPython.core.display.HTML object>"
      ]
     },
     "metadata": {},
     "output_type": "display_data"
    },
    {
     "name": "stderr",
     "output_type": "stream",
     "text": [
      "/home/mirai/.pyenv/versions/3.12.2/lib/python3.12/site-packages/bigframes/core/blocks.py:126: NullIndexPreviewWarning: Creating object with Null Index. Null Index is a preview feature.\n",
      "  warnings.warn(\n",
      "/home/mirai/.pyenv/versions/3.12.2/lib/python3.12/site-packages/bigframes/core/blocks.py:126: NullIndexPreviewWarning: Creating object with Null Index. Null Index is a preview feature.\n",
      "  warnings.warn(\n",
      "/home/mirai/.pyenv/versions/3.12.2/lib/python3.12/site-packages/bigframes/core/blocks.py:126: NullIndexPreviewWarning: Creating object with Null Index. Null Index is a preview feature.\n",
      "  warnings.warn(\n"
     ]
    },
    {
     "data": {
      "text/html": [
       "Query job 38c7187c-1a3b-47e6-9656-6059beed94f9 is DONE. 15.8 kB processed. <a target=\"_blank\" href=\"https://console.cloud.google.com/bigquery?project=mlops-433612&j=bq:us-central1:38c7187c-1a3b-47e6-9656-6059beed94f9&page=queryresults\">Open Job</a>"
      ],
      "text/plain": [
       "<IPython.core.display.HTML object>"
      ]
     },
     "metadata": {},
     "output_type": "display_data"
    },
    {
     "data": {
      "text/html": [
       "Query job 57c5f31c-b72b-4257-ac78-871a77893746 is DONE. 534 Bytes processed. <a target=\"_blank\" href=\"https://console.cloud.google.com/bigquery?project=mlops-433612&j=bq:us-central1:57c5f31c-b72b-4257-ac78-871a77893746&page=queryresults\">Open Job</a>"
      ],
      "text/plain": [
       "<IPython.core.display.HTML object>"
      ]
     },
     "metadata": {},
     "output_type": "display_data"
    },
    {
     "data": {
      "text/html": [
       "<div>\n",
       "<style scoped>\n",
       "    .dataframe tbody tr th:only-of-type {\n",
       "        vertical-align: middle;\n",
       "    }\n",
       "\n",
       "    .dataframe tbody tr th {\n",
       "        vertical-align: top;\n",
       "    }\n",
       "\n",
       "    .dataframe thead th {\n",
       "        text-align: right;\n",
       "    }\n",
       "</style>\n",
       "<table border=\"1\" class=\"dataframe\">\n",
       "  <thead>\n",
       "    <tr style=\"text-align: right;\">\n",
       "      <th></th>\n",
       "      <th>entity_id</th>\n",
       "      <th>Name</th>\n",
       "      <th>Age</th>\n",
       "      <th>Sex</th>\n",
       "      <th>Fare</th>\n",
       "      <th>Pclass</th>\n",
       "      <th>SibSp</th>\n",
       "      <th>timestamp</th>\n",
       "    </tr>\n",
       "  </thead>\n",
       "  <tbody>\n",
       "    <tr>\n",
       "      <th>0</th>\n",
       "      <td>id-44</td>\n",
       "      <td>Cherry, Miss. Gladys</td>\n",
       "      <td>30.0</td>\n",
       "      <td>female</td>\n",
       "      <td>86.5</td>\n",
       "      <td>1</td>\n",
       "      <td>0</td>\n",
       "      <td>2024-09-15 13:24:22.862434+00:00</td>\n",
       "    </tr>\n",
       "    <tr>\n",
       "      <th>1</th>\n",
       "      <td>id-40</td>\n",
       "      <td>Minahan, Dr. William Edward</td>\n",
       "      <td>44.0</td>\n",
       "      <td>male</td>\n",
       "      <td>90.0</td>\n",
       "      <td>1</td>\n",
       "      <td>2</td>\n",
       "      <td>2024-09-15 13:24:22.862434+00:00</td>\n",
       "    </tr>\n",
       "    <tr>\n",
       "      <th>2</th>\n",
       "      <td>id-126</td>\n",
       "      <td>Kimball, Mr. Edwin Nelson Jr</td>\n",
       "      <td>42.0</td>\n",
       "      <td>male</td>\n",
       "      <td>52.5542</td>\n",
       "      <td>1</td>\n",
       "      <td>1</td>\n",
       "      <td>2024-09-15 13:24:22.862434+00:00</td>\n",
       "    </tr>\n",
       "    <tr>\n",
       "      <th>3</th>\n",
       "      <td>id-23</td>\n",
       "      <td>Futrelle, Mr. Jacques Heath</td>\n",
       "      <td>37.0</td>\n",
       "      <td>male</td>\n",
       "      <td>53.1</td>\n",
       "      <td>1</td>\n",
       "      <td>1</td>\n",
       "      <td>2024-09-15 13:24:22.862434+00:00</td>\n",
       "    </tr>\n",
       "    <tr>\n",
       "      <th>4</th>\n",
       "      <td>id-145</td>\n",
       "      <td>Calderhead, Mr. Edward Pennington</td>\n",
       "      <td>42.0</td>\n",
       "      <td>male</td>\n",
       "      <td>26.2875</td>\n",
       "      <td>1</td>\n",
       "      <td>0</td>\n",
       "      <td>2024-09-15 13:24:22.862434+00:00</td>\n",
       "    </tr>\n",
       "  </tbody>\n",
       "</table>\n",
       "<p>5 rows × 8 columns</p>\n",
       "</div>[5 rows x 8 columns in total]"
      ],
      "text/plain": [
       "entity_id                              Name   Age    Sex     Fare  Pclass  \\\n",
       "    id-44              Cherry, Miss. Gladys  30.0 female     86.5       1   \n",
       "    id-40       Minahan, Dr. William Edward  44.0   male     90.0       1   \n",
       "   id-126      Kimball, Mr. Edwin Nelson Jr  42.0   male  52.5542       1   \n",
       "    id-23       Futrelle, Mr. Jacques Heath  37.0   male     53.1       1   \n",
       "   id-145 Calderhead, Mr. Edward Pennington  42.0   male  26.2875       1   \n",
       "\n",
       " SibSp                        timestamp  \n",
       "     0 2024-09-15 13:24:22.862434+00:00  \n",
       "     2 2024-09-15 13:24:22.862434+00:00  \n",
       "     1 2024-09-15 13:24:22.862434+00:00  \n",
       "     1 2024-09-15 13:24:22.862434+00:00  \n",
       "     0 2024-09-15 13:24:22.862434+00:00  \n",
       "\n",
       "[5 rows x 8 columns]"
      ]
     },
     "execution_count": 11,
     "metadata": {},
     "output_type": "execute_result"
    }
   ],
   "source": [
    "import bigframes\n",
    "import pandas as pd\n",
    "from vertexai.resources.preview.feature_store import offline_store\n",
    "\n",
    "entity_df = pd.DataFrame(\n",
    "  data={\n",
    "    \"entity_id\": [f\"id-{i}\" for i in range(0, 182)],\n",
    "    \"timestamp\": [pd.Timestamp(\"2024-09-15 13:24:22.862434 UTC\") for i in range(0, 182)],\n",
    "  },\n",
    ")\n",
    "\n",
    "response = offline_store.fetch_historical_feature_values(\n",
    "  entity_df=entity_df,\n",
    "  features=features,\n",
    ")"
   ]
  },
  {
   "cell_type": "code",
   "execution_count": 15,
   "metadata": {},
   "outputs": [
    {
     "data": {
      "text/html": [
       "Query job 7a8874b7-78e0-45ad-98fc-4001334828c7 is DONE. 17.3 kB processed. <a target=\"_blank\" href=\"https://console.cloud.google.com/bigquery?project=mlops-433612&j=bq:us-central1:7a8874b7-78e0-45ad-98fc-4001334828c7&page=queryresults\">Open Job</a>"
      ],
      "text/plain": [
       "<IPython.core.display.HTML object>"
      ]
     },
     "metadata": {},
     "output_type": "display_data"
    }
   ],
   "source": [
    "response.to_csv('results.csv', index=False)"
   ]
  },
  {
   "cell_type": "code",
   "execution_count": null,
   "metadata": {},
   "outputs": [],
   "source": []
  }
 ],
 "metadata": {
  "kernelspec": {
   "display_name": "3.12.2",
   "language": "python",
   "name": "python3"
  },
  "language_info": {
   "codemirror_mode": {
    "name": "ipython",
    "version": 3
   },
   "file_extension": ".py",
   "mimetype": "text/x-python",
   "name": "python",
   "nbconvert_exporter": "python",
   "pygments_lexer": "ipython3",
   "version": "3.12.2"
  }
 },
 "nbformat": 4,
 "nbformat_minor": 2
}
