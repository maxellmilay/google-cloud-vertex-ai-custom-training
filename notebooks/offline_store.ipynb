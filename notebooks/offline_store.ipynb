{
 "cells": [
  {
   "cell_type": "code",
   "execution_count": null,
   "metadata": {},
   "outputs": [],
   "source": [
    "%pip install bigframes"
   ]
  },
  {
   "cell_type": "code",
   "execution_count": null,
   "metadata": {},
   "outputs": [],
   "source": [
    "import os\n",
    "\n",
    "os.environ['GOOGLE_APPLICATION_CREDENTIALS'] = \"key.json\""
   ]
  },
  {
   "cell_type": "code",
   "execution_count": null,
   "metadata": {},
   "outputs": [],
   "source": [
    "PROJECT_ID = \"mlops-433612\"  # @param {type:\"string\"}\n",
    "LOCATION = \"us-central1\"  # @param {type:\"string\"}\n",
    "\n",
    "import vertexai\n",
    "\n",
    "vertexai.init(project=PROJECT_ID, location=LOCATION)"
   ]
  },
  {
   "cell_type": "code",
   "execution_count": null,
   "metadata": {},
   "outputs": [],
   "source": [
    "from vertexai.resources.preview.feature_store import FeatureGroup\n",
    "from vertexai.resources.preview.feature_store import utils as fs_utils\n",
    "\n",
    "FEATURE_GROUP_ID = \"test_feature_group\"  # @param {type:\"string\"}\n",
    "DATASET_ID = \"featurestore_demo\"\n",
    "TABLE_ID = \"cleaned_table\"\n",
    "\n",
    "BQ_TABLE_URI = f'{PROJECT_ID}.{DATASET_ID}.{TABLE_ID}'\n",
    "\n",
    "feature_groups = FeatureGroup.list()\n",
    "\n",
    "# Find the feature group with the desired ID\n",
    "fg = next((fg for fg in feature_groups if fg.name == FEATURE_GROUP_ID), None)\n",
    "\n",
    "if fg:\n",
    "    print(f\"Feature group found: {fg}\")\n",
    "else:\n",
    "    print(f\"Feature group with ID {FEATURE_GROUP_ID} not found.\")"
   ]
  },
  {
   "cell_type": "code",
   "execution_count": null,
   "metadata": {},
   "outputs": [],
   "source": [
    "from vertexai.resources.preview.feature_store import Feature\n",
    "\n",
    "feature_names = [\"Name\",\"Age\",\"Sex\",\"Fare\",\"Pclass\",\"SibSp\",\"PassengerId\",\"Survived\",\"Parch\",\"Ticket\",\"Cabin\",\"Embarked\"]\n",
    "features = []\n",
    "\n",
    "for feature in feature_names:\n",
    "   f: Feature = fg.get_feature(feature)\n",
    "   features.append(f)"
   ]
  },
  {
   "cell_type": "code",
   "execution_count": null,
   "metadata": {},
   "outputs": [],
   "source": [
    "import bigframes\n",
    "import pandas as pd\n",
    "from vertexai.resources.preview.feature_store import offline_store\n",
    "\n",
    "entity_df = pd.DataFrame(\n",
    "  data={\n",
    "    \"entity_id\": [f\"id-{i}\" for i in range(0, 182)],\n",
    "    \"timestamp\": [pd.Timestamp(\"2024-09-15 13:24:22.862434 UTC\") for i in range(0, 182)],\n",
    "  },\n",
    ")\n",
    "\n",
    "response = offline_store.fetch_historical_feature_values(\n",
    "  entity_df=entity_df,\n",
    "  features=features,\n",
    ")"
   ]
  },
  {
   "cell_type": "code",
   "execution_count": null,
   "metadata": {},
   "outputs": [],
   "source": [
    "response.to_csv('results.csv', index=False)"
   ]
  }
 ],
 "metadata": {
  "kernelspec": {
   "display_name": "3.12.2",
   "language": "python",
   "name": "python3"
  },
  "language_info": {
   "codemirror_mode": {
    "name": "ipython",
    "version": 3
   },
   "file_extension": ".py",
   "mimetype": "text/x-python",
   "name": "python",
   "nbconvert_exporter": "python",
   "pygments_lexer": "ipython3",
   "version": "3.12.2"
  }
 },
 "nbformat": 4,
 "nbformat_minor": 2
}
