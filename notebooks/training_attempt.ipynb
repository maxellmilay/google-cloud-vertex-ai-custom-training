{
 "cells": [
  {
   "cell_type": "code",
   "execution_count": null,
   "metadata": {},
   "outputs": [],
   "source": [
    "%pip install scikit-learn google-cloud-aiplatform"
   ]
  },
  {
   "cell_type": "markdown",
   "metadata": {},
   "source": [
    "## Setup GCP"
   ]
  },
  {
   "cell_type": "code",
   "execution_count": null,
   "metadata": {},
   "outputs": [],
   "source": [
    "import os\n",
    "\n",
    "os.environ['GOOGLE_APPLICATION_CREDENTIALS'] = \"key.json\""
   ]
  },
  {
   "cell_type": "code",
   "execution_count": null,
   "metadata": {},
   "outputs": [],
   "source": [
    "from vertexai.resources.preview import FeatureOnlineStore\n",
    "\n",
    "# my_fos = FeatureOnlineStore.create_optimized_store(\n",
    "#     'test',\n",
    "#     True,\n",
    "#     [\"mlops-433612\"],\n",
    "# )\n",
    "\n",
    "test_fos = FeatureOnlineStore('projects/994601067814/locations/us-central1/featureOnlineStores/test')\n",
    "test_fos.gca_resource"
   ]
  },
  {
   "cell_type": "code",
   "execution_count": null,
   "metadata": {},
   "outputs": [],
   "source": [
    "from vertexai.resources.preview import FeatureViewBigQuerySource, FeatureView\n",
    "\n",
    "my_fv = test_fos.create_feature_view(\n",
    "    'test_fv',\n",
    "    FeatureViewBigQuerySource(\n",
    "        uri=f\"bq://mlops-433612.titanic_survival.passenger\",\n",
    "        entity_id_columns=[\"Name\",\"Pclass\",\"Survived\"],\n",
    "    ),\n",
    "    # sync_config can be set with CRON_SCHEDULE if you want to setup auto sync\n",
    "    sync_config=None,\n",
    ")"
   ]
  },
  {
   "cell_type": "code",
   "execution_count": null,
   "metadata": {},
   "outputs": [],
   "source": [
    "feature_view = FeatureView('projects/994601067814/locations/us-central1/featureOnlineStores/test/featureViews/test_fv')\n",
    "fv_sync = feature_view.sync()\n",
    "\n",
    "\n",
    "import time\n",
    "\n",
    "while True:\n",
    "    feature_view_sync = my_fv.get_sync(fv_sync.resource_name.split(\"/\")[9]).gca_resource\n",
    "    if feature_view_sync.run_time.end_time.seconds > 0:\n",
    "        status = \"Succeed\" if feature_view_sync.final_status.code == 0 else \"Failed\"\n",
    "        print(f\"Sync {status} for {feature_view_sync.name}.\")\n",
    "        # wait a little more for the job to properly shutdown\n",
    "        time.sleep(30)\n",
    "        break\n",
    "    else:\n",
    "        print(\"Sync ongoing, waiting for 30 seconds.\")\n",
    "    time.sleep(30)"
   ]
  },
  {
   "cell_type": "code",
   "execution_count": null,
   "metadata": {},
   "outputs": [],
   "source": [
    "from google.cloud.aiplatform_v1beta1 import FeatureOnlineStoreAdminServiceClient\n",
    "\n",
    "LOCATION = \"us-central1\"  # @param {type:\"string\"}\n",
    "\n",
    "API_ENDPOINT = f\"{LOCATION}-aiplatform.googleapis.com\"\n",
    "\n",
    "admin_client = FeatureOnlineStoreAdminServiceClient(\n",
    "    client_options={\"api_endpoint\": API_ENDPOINT}\n",
    ")\n",
    "\n",
    "PROJECT_ID = \"mlops-433612\"\n",
    "\n",
    "FEATURE_ONLINE_STORE_ID = \"test\"\n",
    "\n",
    "admin_client.get_feature_online_store(\n",
    "    name=f\"projects/{PROJECT_ID}/locations/{LOCATION}/featureOnlineStores/{FEATURE_ONLINE_STORE_ID}\"\n",
    ")"
   ]
  },
  {
   "cell_type": "markdown",
   "metadata": {},
   "source": [
    "## Public Endpoint"
   ]
  },
  {
   "cell_type": "code",
   "execution_count": null,
   "metadata": {},
   "outputs": [],
   "source": [
    "import requests\n",
    "import subprocess\n",
    "\n",
    "# Step 1: Get the access token using gcloud command\n",
    "access_token = subprocess.check_output([\"gcloud\", \"auth\", \"print-access-token\"]).decode(\"utf-8\").strip()\n",
    "\n",
    "# Step 2: Define the necessary parameters\n",
    "PROJECT_ID = \"mlops-433612\"\n",
    "LOCATION_ID = \"us-central1\"\n",
    "FEATUREONLINESTORE_NAME = \"titanic_survival_passengers\"\n",
    "FEATUREVIEW_NAME = \"titanic_survival_passengers\"\n",
    "\n",
    "# Construct the URL\n",
    "url = f\"https://{LOCATION_ID}-aiplatform.googleapis.com/v1/projects/{PROJECT_ID}/locations/{LOCATION_ID}/featureOnlineStores/{FEATUREONLINESTORE_NAME}\"\n",
    "\n",
    "# Step 3: Set up the headers with the authorization token\n",
    "headers = {\n",
    "    \"Authorization\": f\"Bearer {access_token}\"\n",
    "}\n",
    "\n",
    "# Step 4: Make the GET request\n",
    "response = requests.get(url, headers=headers)\n",
    "\n",
    "# Step 5: Check the response status and output the content\n",
    "if response.status_code == 200:\n",
    "    print(\"Request was successful.\")\n",
    "    print(response.json())\n",
    "else:\n",
    "    print(f\"Failed to fetch data. Status code: {response.status_code}\")\n",
    "    print(response.text)\n"
   ]
  },
  {
   "cell_type": "markdown",
   "metadata": {},
   "source": [
    "## Fetch Data From Vertex AI Feature View"
   ]
  },
  {
   "cell_type": "code",
   "execution_count": null,
   "metadata": {},
   "outputs": [],
   "source": [
    "from google.cloud.aiplatform_v1 import FeatureOnlineStoreServiceClient\n",
    "from google.cloud.aiplatform_v1.types import feature_online_store_service as feature_online_store_service_pb2\n",
    "\n",
    "PUBLIC_ENDPOINT_DOMAIN_NAME = \"us-central1-aiplatform.googleapis.com\"\n",
    "PROJECT_ID = \"mlops-433612\"\n",
    "LOCATION_ID = \"us-central1\"\n",
    "FEATUREONLINESTORE_NAME = \"titanic_survival_passengers\"\n",
    "FEATUREVIEW_NAME = \"titanic_survival_passengers\"\n",
    "\n",
    "data_client = FeatureOnlineStoreServiceClient(\n",
    "  client_options={\"api_endpoint\": PUBLIC_ENDPOINT_DOMAIN_NAME}\n",
    ")\n",
    "\n",
    "response = data_client.fetch_feature_values(\n",
    "  request=feature_online_store_service_pb2.FetchFeatureValuesRequest(\n",
    "    feature_view=f\"projects/{PROJECT_ID}/locations/{LOCATION_ID}/featureOnlineStores/{FEATUREONLINESTORE_NAME}/featureViews/{FEATUREVIEW_NAME}\",\n",
    "  ),\n",
    ")"
   ]
  }
 ],
 "metadata": {
  "kernelspec": {
   "display_name": "3.12.2",
   "language": "python",
   "name": "python3"
  },
  "language_info": {
   "codemirror_mode": {
    "name": "ipython",
    "version": 3
   },
   "file_extension": ".py",
   "mimetype": "text/x-python",
   "name": "python",
   "nbconvert_exporter": "python",
   "pygments_lexer": "ipython3",
   "version": "3.12.2"
  }
 },
 "nbformat": 4,
 "nbformat_minor": 2
}
