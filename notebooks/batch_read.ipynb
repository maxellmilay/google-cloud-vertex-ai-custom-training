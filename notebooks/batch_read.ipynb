{
 "cells": [
  {
   "cell_type": "code",
   "execution_count": null,
   "metadata": {},
   "outputs": [],
   "source": [
    "import os\n",
    "\n",
    "os.environ['GOOGLE_APPLICATION_CREDENTIALS'] = \"key.json\""
   ]
  },
  {
   "cell_type": "code",
   "execution_count": null,
   "metadata": {},
   "outputs": [],
   "source": [
    "from google.cloud.aiplatform_v1beta1 import FeaturestoreServiceClient\n",
    "\n",
    "# Set up the client\n",
    "client = FeaturestoreServiceClient()\n",
    "\n",
    "PROJECT_ID = \"mlops-433612\"  # @param {type:\"string\"}\n",
    "LOCATION = \"us-central1\"  # @param {type:\"string\"}\n",
    "FEATURESTORE_ID = \"test_feature_group\"\n",
    "ENTITY_TYPE_ID = \"entity_id\"\n",
    "\n",
    "# Specify the entity type\n",
    "entity_type_id = \"projects/{PROJECT_ID}/locations/{LOCATION}/featurestores/{FEATURESTORE_ID}/entityTypes/{ENTITY_TYPE_ID}\"\n",
    "\n",
    "# Specify the timestamp\n",
    "timestamp = \"2024-09-15 11:53:05.071693 UTC\"  # The timestamp you want to filter by\n",
    "\n",
    "# Read feature values with the same timestamp\n",
    "response = client.read_feature_values(\n",
    "    entity_type=entity_type_id,\n",
    "    read_feature_values_request={\n",
    "        \"feature_selector\": {\n",
    "            \"id_matcher\": {\n",
    "                \"ids\": [\"feature1\", \"feature2\"]  # Specify the features you want to retrieve\n",
    "            }\n",
    "        },\n",
    "        \"start_time\": timestamp,\n",
    "        \"end_time\": timestamp,  # Same timestamp for both start and end\n",
    "    }\n",
    ")\n",
    "\n",
    "# Process the response\n",
    "for entity in response.entity_view.entities:\n",
    "    print(f\"Entity ID: {entity.entity_id}\")\n",
    "    for feature in entity.data:\n",
    "        print(f\"Feature {feature.feature_id}: {feature.value}\")\n"
   ]
  }
 ],
 "metadata": {
  "kernelspec": {
   "display_name": "3.12.2",
   "language": "python",
   "name": "python3"
  },
  "language_info": {
   "codemirror_mode": {
    "name": "ipython",
    "version": 3
   },
   "file_extension": ".py",
   "mimetype": "text/x-python",
   "name": "python",
   "nbconvert_exporter": "python",
   "pygments_lexer": "ipython3",
   "version": "3.12.2"
  }
 },
 "nbformat": 4,
 "nbformat_minor": 2
}
