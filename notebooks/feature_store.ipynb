{
 "cells": [
  {
   "cell_type": "code",
   "execution_count": 3,
   "metadata": {},
   "outputs": [],
   "source": [
    "import os\n",
    "\n",
    "os.environ['GOOGLE_APPLICATION_CREDENTIALS'] = \"admin.json\""
   ]
  },
  {
   "cell_type": "code",
   "execution_count": 4,
   "metadata": {},
   "outputs": [],
   "source": [
    "PROJECT_ID = \"mlops-433612\"  # @param {type:\"string\"}\n",
    "LOCATION = \"us-central1\"  # @param {type:\"string\"}\n",
    "\n",
    "API_ENDPOINT = f\"{LOCATION}-aiplatform.googleapis.com\"\n",
    "\n",
    "from google.cloud import aiplatform\n",
    "\n",
    "aiplatform.init(project=PROJECT_ID, location=LOCATION)"
   ]
  },
  {
   "cell_type": "code",
   "execution_count": 5,
   "metadata": {},
   "outputs": [],
   "source": [
    "from google.cloud.aiplatform_v1beta1 import (\n",
    "    FeatureOnlineStoreAdminServiceClient, FeatureRegistryServiceClient)\n",
    "\n",
    "admin_client = FeatureOnlineStoreAdminServiceClient(\n",
    "    client_options={\"api_endpoint\": API_ENDPOINT}\n",
    ")\n",
    "registry_client = FeatureRegistryServiceClient(\n",
    "    client_options={\"api_endpoint\": API_ENDPOINT}\n",
    ")"
   ]
  },
  {
   "cell_type": "code",
   "execution_count": 6,
   "metadata": {},
   "outputs": [
    {
     "name": "stderr",
     "output_type": "stream",
     "text": [
      "2024-09-15 16:22:05.655997: I external/local_xla/xla/tsl/cuda/cudart_stub.cc:32] Could not find cuda drivers on your machine, GPU will not be used.\n",
      "2024-09-15 16:22:05.690533: I external/local_xla/xla/tsl/cuda/cudart_stub.cc:32] Could not find cuda drivers on your machine, GPU will not be used.\n",
      "2024-09-15 16:22:05.723943: E external/local_xla/xla/stream_executor/cuda/cuda_fft.cc:485] Unable to register cuFFT factory: Attempting to register factory for plugin cuFFT when one has already been registered\n",
      "2024-09-15 16:22:05.750990: E external/local_xla/xla/stream_executor/cuda/cuda_dnn.cc:8454] Unable to register cuDNN factory: Attempting to register factory for plugin cuDNN when one has already been registered\n",
      "2024-09-15 16:22:05.757612: E external/local_xla/xla/stream_executor/cuda/cuda_blas.cc:1452] Unable to register cuBLAS factory: Attempting to register factory for plugin cuBLAS when one has already been registered\n",
      "2024-09-15 16:22:05.781021: I tensorflow/core/platform/cpu_feature_guard.cc:210] This TensorFlow binary is optimized to use available CPU instructions in performance-critical operations.\n",
      "To enable the following instructions: AVX2 FMA, in other operations, rebuild TensorFlow with the appropriate compiler flags.\n",
      "2024-09-15 16:22:07.279848: W tensorflow/compiler/tf2tensorrt/utils/py_utils.cc:38] TF-TRT Warning: Could not find TensorRT\n"
     ]
    },
    {
     "name": "stdout",
     "output_type": "stream",
     "text": [
      "Creating FeatureOnlineStore\n",
      "Create FeatureOnlineStore backing LRO: projects/994601067814/locations/us-central1/featureOnlineStores/test_online_store/operations/5738785664254607360\n",
      "FeatureOnlineStore created. Resource name: projects/994601067814/locations/us-central1/featureOnlineStores/test_online_store\n",
      "To use this FeatureOnlineStore in another session:\n",
      "feature_online_store = aiplatform.FeatureOnlineStore('projects/994601067814/locations/us-central1/featureOnlineStores/test_online_store')\n"
     ]
    }
   ],
   "source": [
    "from vertexai.resources.preview import FeatureOnlineStore\n",
    "\n",
    "FEATURE_ONLINE_STORE_ID = \"test_online_store\"  # @param {type:\"string\"}\n",
    "\n",
    "my_fos = FeatureOnlineStore.create_optimized_store(FEATURE_ONLINE_STORE_ID)"
   ]
  },
  {
   "cell_type": "code",
   "execution_count": 10,
   "metadata": {},
   "outputs": [
    {
     "name": "stdout",
     "output_type": "stream",
     "text": [
      "Creating FeatureView\n",
      "Create FeatureView backing LRO: projects/994601067814/locations/us-central1/featureOnlineStores/test_online_store/featureViews/test_fv/operations/4134659771980578816\n",
      "FeatureView created. Resource name: projects/994601067814/locations/us-central1/featureOnlineStores/test_online_store/featureViews/test_fv\n",
      "To use this FeatureView in another session:\n",
      "feature_view = aiplatform.FeatureView('projects/994601067814/locations/us-central1/featureOnlineStores/test_online_store/featureViews/test_fv')\n"
     ]
    }
   ],
   "source": [
    "from vertexai.resources.preview import FeatureViewBigQuerySource\n",
    "\n",
    "FEATURE_VIEW_ID = \"test_fv\"  # @param {type:\"string\"}\n",
    "\n",
    "CRON_SCHEDULE = \"* * * * *\"  # @param {type:\"string\"}\n",
    "\n",
    "DATASET_ID = \"featurestore_demo\"\n",
    "TABLE_ID = \"cleaned_table\"\n",
    "\n",
    "BQ_VIEW_ID_FQN = f'{PROJECT_ID}.{DATASET_ID}.{TABLE_ID}'\n",
    "\n",
    "my_fv = my_fos.create_feature_view(\n",
    "    FEATURE_VIEW_ID,\n",
    "    FeatureViewBigQuerySource(\n",
    "        uri=f\"bq://{BQ_VIEW_ID_FQN}\",\n",
    "        entity_id_columns=[\"entity_id\"],\n",
    "    ),\n",
    "    # sync_config can be set with CRON_SCHEDULE if you want to setup auto sync\n",
    "    sync_config=None,\n",
    ")"
   ]
  },
  {
   "cell_type": "code",
   "execution_count": 11,
   "metadata": {},
   "outputs": [
    {
     "name": "stdout",
     "output_type": "stream",
     "text": [
      "Sync ongoing, waiting for 30 seconds.\n",
      "Sync ongoing, waiting for 30 seconds.\n",
      "Sync ongoing, waiting for 30 seconds.\n",
      "Sync ongoing, waiting for 30 seconds.\n",
      "Sync ongoing, waiting for 30 seconds.\n",
      "Sync ongoing, waiting for 30 seconds.\n",
      "Sync ongoing, waiting for 30 seconds.\n",
      "Sync Succeed for projects/994601067814/locations/us-central1/featureOnlineStores/test_online_store/featureViews/test_fv/featureViewSyncs/5419906762255892480.\n"
     ]
    }
   ],
   "source": [
    "fv_sync = my_fv.sync()\n",
    "\n",
    "import time\n",
    "\n",
    "while True:\n",
    "    feature_view_sync = my_fv.get_sync(fv_sync.resource_name.split(\"/\")[9]).gca_resource\n",
    "    if feature_view_sync.run_time.end_time.seconds > 0:\n",
    "        status = \"Succeed\" if feature_view_sync.final_status.code == 0 else \"Failed\"\n",
    "        print(f\"Sync {status} for {feature_view_sync.name}.\")\n",
    "        # wait a little more for the job to properly shutdown\n",
    "        time.sleep(30)\n",
    "        break\n",
    "    else:\n",
    "        print(\"Sync ongoing, waiting for 30 seconds.\")\n",
    "    time.sleep(30)"
   ]
  },
  {
   "cell_type": "code",
   "execution_count": 17,
   "metadata": {},
   "outputs": [
    {
     "name": "stdout",
     "output_type": "stream",
     "text": [
      "Public endpoint for the optimized online store test_online_store is 6340232646500548608.us-central1-994601067814.featurestore.vertexai.goog\n",
      "{'features': [{'name': 'PassengerId', 'value': {'int64_value': '11'}}, {'name': 'Survived', 'value': {'int64_value': '1'}}, {'name': 'Pclass', 'value': {'int64_value': '3'}}, {'name': 'Name', 'value': {'string_value': 'Sandstrom, Miss. Marguerite Rut'}}, {'name': 'Sex', 'value': {'string_value': 'female'}}, {'name': 'Age', 'value': {'double_value': 4.0}}, {'name': 'SibSp', 'value': {'int64_value': '1'}}, {'name': 'Parch', 'value': {'int64_value': '1'}}, {'name': 'Ticket', 'value': {'string_value': 'PP 9549'}}, {'name': 'Fare', 'value': {'double_value': 16.7}}, {'name': 'Cabin', 'value': {'string_value': 'G6'}}, {'name': 'Embarked', 'value': {'string_value': 'S'}}, {'name': 'feature_timestamp', 'value': {'int64_value': '1726387971197939'}}]}\n"
     ]
    }
   ],
   "source": [
    "from vertexai.resources.preview import FeatureView\n",
    "import pandas as pd\n",
    "\n",
    "# Depends on the FeatureView you created, the FEATURE_VIEW_ID here can be different\n",
    "data = FeatureView(name=FEATURE_VIEW_ID, feature_online_store_id=FEATURE_ONLINE_STORE_ID).read(key=[\"10\"]).to_dict()\n",
    "\n",
    "print(data)"
   ]
  },
  {
   "cell_type": "code",
   "execution_count": null,
   "metadata": {},
   "outputs": [],
   "source": []
  }
 ],
 "metadata": {
  "kernelspec": {
   "display_name": "3.12.2",
   "language": "python",
   "name": "python3"
  },
  "language_info": {
   "codemirror_mode": {
    "name": "ipython",
    "version": 3
   },
   "file_extension": ".py",
   "mimetype": "text/x-python",
   "name": "python",
   "nbconvert_exporter": "python",
   "pygments_lexer": "ipython3",
   "version": "3.12.2"
  }
 },
 "nbformat": 4,
 "nbformat_minor": 2
}
