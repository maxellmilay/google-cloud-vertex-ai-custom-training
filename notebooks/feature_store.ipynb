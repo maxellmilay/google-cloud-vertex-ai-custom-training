{
 "cells": [
  {
   "cell_type": "code",
   "execution_count": null,
   "metadata": {},
   "outputs": [],
   "source": [
    "import os\n",
    "\n",
    "os.environ['GOOGLE_APPLICATION_CREDENTIALS'] = \"key.json\""
   ]
  },
  {
   "cell_type": "code",
   "execution_count": null,
   "metadata": {},
   "outputs": [],
   "source": [
    "PROJECT_ID = \"mlops-433612\"  # @param {type:\"string\"}\n",
    "LOCATION = \"us-central1\"  # @param {type:\"string\"}\n",
    "\n",
    "API_ENDPOINT = f\"{LOCATION}-aiplatform.googleapis.com\"\n",
    "\n",
    "from google.cloud import aiplatform\n",
    "\n",
    "aiplatform.init(project=PROJECT_ID, location=LOCATION)"
   ]
  },
  {
   "cell_type": "code",
   "execution_count": null,
   "metadata": {},
   "outputs": [],
   "source": [
    "from google.cloud.aiplatform_v1beta1 import (\n",
    "    FeatureOnlineStoreAdminServiceClient, FeatureRegistryServiceClient)\n",
    "\n",
    "admin_client = FeatureOnlineStoreAdminServiceClient(\n",
    "    client_options={\"api_endpoint\": API_ENDPOINT}\n",
    ")\n",
    "registry_client = FeatureRegistryServiceClient(\n",
    "    client_options={\"api_endpoint\": API_ENDPOINT}\n",
    ")"
   ]
  },
  {
   "cell_type": "code",
   "execution_count": null,
   "metadata": {},
   "outputs": [],
   "source": [
    "from vertexai.resources.preview import FeatureOnlineStore\n",
    "\n",
    "FEATURE_ONLINE_STORE_ID = \"test_online_store\"  # @param {type:\"string\"}\n",
    "\n",
    "my_fos = FeatureOnlineStore.create_optimized_store(FEATURE_ONLINE_STORE_ID)"
   ]
  },
  {
   "cell_type": "code",
   "execution_count": null,
   "metadata": {},
   "outputs": [],
   "source": [
    "from vertexai.resources.preview import FeatureViewBigQuerySource\n",
    "\n",
    "FEATURE_VIEW_ID = \"test_fv\"  # @param {type:\"string\"}\n",
    "\n",
    "CRON_SCHEDULE = \"* * * * *\"  # @param {type:\"string\"}\n",
    "\n",
    "DATASET_ID = \"featurestore_demo\"\n",
    "TABLE_ID = \"cleaned_table\"\n",
    "\n",
    "BQ_VIEW_ID_FQN = f'{PROJECT_ID}.{DATASET_ID}.{TABLE_ID}'\n",
    "\n",
    "my_fv = my_fos.create_feature_view(\n",
    "    FEATURE_VIEW_ID,\n",
    "    FeatureViewBigQuerySource(\n",
    "        uri=f\"bq://{BQ_VIEW_ID_FQN}\",\n",
    "        entity_id_columns=[\"entity_id\"],\n",
    "    ),\n",
    "    # sync_config can be set with CRON_SCHEDULE if you want to setup auto sync\n",
    "    sync_config=None,\n",
    ")"
   ]
  },
  {
   "cell_type": "code",
   "execution_count": null,
   "metadata": {},
   "outputs": [],
   "source": [
    "fv_sync = my_fv.sync()\n",
    "\n",
    "import time\n",
    "\n",
    "while True:\n",
    "    feature_view_sync = my_fv.get_sync(fv_sync.resource_name.split(\"/\")[9]).gca_resource\n",
    "    if feature_view_sync.run_time.end_time.seconds > 0:\n",
    "        status = \"Succeed\" if feature_view_sync.final_status.code == 0 else \"Failed\"\n",
    "        print(f\"Sync {status} for {feature_view_sync.name}.\")\n",
    "        # wait a little more for the job to properly shutdown\n",
    "        time.sleep(30)\n",
    "        break\n",
    "    else:\n",
    "        print(\"Sync ongoing, waiting for 30 seconds.\")\n",
    "    time.sleep(30)"
   ]
  },
  {
   "cell_type": "code",
   "execution_count": null,
   "metadata": {},
   "outputs": [],
   "source": [
    "from vertexai.resources.preview import FeatureView\n",
    "import pandas as pd\n",
    "\n",
    "# Depends on the FeatureView you created, the FEATURE_VIEW_ID here can be different\n",
    "data = FeatureView(name=FEATURE_VIEW_ID, feature_online_store_id=FEATURE_ONLINE_STORE_ID).read(key=[\"10\"]).to_dict()\n",
    "\n",
    "print(data)"
   ]
  }
 ],
 "metadata": {
  "kernelspec": {
   "display_name": "3.12.2",
   "language": "python",
   "name": "python3"
  },
  "language_info": {
   "codemirror_mode": {
    "name": "ipython",
    "version": 3
   },
   "file_extension": ".py",
   "mimetype": "text/x-python",
   "name": "python",
   "nbconvert_exporter": "python",
   "pygments_lexer": "ipython3",
   "version": "3.12.2"
  }
 },
 "nbformat": 4,
 "nbformat_minor": 2
}
