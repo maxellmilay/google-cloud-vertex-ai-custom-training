{
 "cells": [
  {
   "cell_type": "markdown",
   "metadata": {},
   "source": [
    "# Titanic Survival"
   ]
  },
  {
   "cell_type": "markdown",
   "metadata": {},
   "source": [
    "## Import Libraries"
   ]
  },
  {
   "cell_type": "code",
   "execution_count": null,
   "metadata": {},
   "outputs": [],
   "source": [
    "import pandas as pd\n",
    "from xgboost import XGBClassifier\n",
    "from sklearn.model_selection import train_test_split"
   ]
  },
  {
   "cell_type": "markdown",
   "metadata": {},
   "source": [
    "## Load Data"
   ]
  },
  {
   "cell_type": "code",
   "execution_count": null,
   "metadata": {},
   "outputs": [],
   "source": [
    "import os\n",
    "\n",
    "os.environ['GOOGLE_APPLICATION_CREDENTIALS'] = \"key.json\""
   ]
  },
  {
   "cell_type": "code",
   "execution_count": null,
   "metadata": {},
   "outputs": [],
   "source": [
    "PROJECT_ID = \"mlops-433612\"  # @param {type:\"string\"}\n",
    "LOCATION = \"us-central1\"  # @param {type:\"string\"}\n",
    "\n",
    "import vertexai\n",
    "\n",
    "vertexai.init(project=PROJECT_ID, location=LOCATION)"
   ]
  },
  {
   "cell_type": "code",
   "execution_count": null,
   "metadata": {},
   "outputs": [],
   "source": [
    "from vertexai.resources.preview.feature_store import FeatureGroup\n",
    "\n",
    "FEATURE_GROUP_ID = \"test_feature_group\"\n",
    "DATASET_ID = \"featurestore_demo\"\n",
    "TABLE_ID = \"cleaned_table\"\n",
    "\n",
    "BQ_TABLE_URI = f'{PROJECT_ID}.{DATASET_ID}.{TABLE_ID}'\n",
    "\n",
    "feature_groups = FeatureGroup.list()\n",
    "\n",
    "# Find the feature group with the desired ID\n",
    "fg = next((fg for fg in feature_groups if fg.name == FEATURE_GROUP_ID), None)\n",
    "\n",
    "if fg:\n",
    "    print(f\"Feature group found: {fg}\")\n",
    "else:\n",
    "    print(f\"Feature group with ID {FEATURE_GROUP_ID} not found.\")"
   ]
  },
  {
   "cell_type": "code",
   "execution_count": null,
   "metadata": {},
   "outputs": [],
   "source": [
    "from vertexai.resources.preview.feature_store import Feature\n",
    "\n",
    "feature_names = [\"Name\",\"Age\",\"Sex\",\"Fare\",\"Pclass\",\"SibSp\",\"PassengerId\",\"Survived\",\"Parch\",\"Ticket\",\"Cabin\",\"Embarked\"]\n",
    "features = []\n",
    "\n",
    "for feature in feature_names:\n",
    "   f: Feature = fg.get_feature(feature)\n",
    "   features.append(f)"
   ]
  },
  {
   "cell_type": "code",
   "execution_count": null,
   "metadata": {},
   "outputs": [],
   "source": [
    "import bigframes\n",
    "import pandas as pd\n",
    "from vertexai.resources.preview.feature_store import offline_store\n",
    "\n",
    "# Filter historical data through the timestamp\n",
    "entity_df = pd.DataFrame(\n",
    "  data={\n",
    "    \"entity_id\": [f\"id-{i}\" for i in range(0, 182)],\n",
    "    \"timestamp\": [pd.Timestamp(\"2024-09-15 13:24:22.862434 UTC\") for i in range(0, 182)],\n",
    "  },\n",
    ")\n",
    "\n",
    "train_df = offline_store.fetch_historical_feature_values(\n",
    "  entity_df=entity_df,\n",
    "  features=features,\n",
    ")"
   ]
  },
  {
   "cell_type": "code",
   "execution_count": null,
   "metadata": {},
   "outputs": [],
   "source": [
    "# Convert the BigTable dataframe into a Pandas dataframe\n",
    "train_df = train_df.to_pandas()"
   ]
  },
  {
   "cell_type": "markdown",
   "metadata": {},
   "source": [
    "## Data Wrangling"
   ]
  },
  {
   "cell_type": "markdown",
   "metadata": {},
   "source": [
    "### Dropping Columns"
   ]
  },
  {
   "cell_type": "code",
   "execution_count": null,
   "metadata": {},
   "outputs": [],
   "source": [
    "train_df = train_df.drop('Cabin', axis=1)"
   ]
  },
  {
   "cell_type": "code",
   "execution_count": null,
   "metadata": {},
   "outputs": [],
   "source": [
    "train_df = train_df.dropna(subset=['Age', 'Embarked'])"
   ]
  },
  {
   "cell_type": "markdown",
   "metadata": {},
   "source": [
    "### Inspecting Features"
   ]
  },
  {
   "cell_type": "code",
   "execution_count": null,
   "metadata": {},
   "outputs": [],
   "source": [
    "categorical_features = pd.get_dummies(train_df[['Pclass','Sex','SibSp','Parch']])\n",
    "numerical_features = train_df[['Age','Fare']]\n",
    "target_df = train_df[['Survived']]"
   ]
  },
  {
   "cell_type": "code",
   "execution_count": null,
   "metadata": {},
   "outputs": [],
   "source": [
    "target_column = target_df['Survived'] "
   ]
  },
  {
   "cell_type": "markdown",
   "metadata": {},
   "source": [
    "### Feature Engineering"
   ]
  },
  {
   "cell_type": "code",
   "execution_count": null,
   "metadata": {},
   "outputs": [],
   "source": [
    "X = pd.concat([categorical_features], axis=1)\n",
    "y = target_column"
   ]
  },
  {
   "cell_type": "code",
   "execution_count": null,
   "metadata": {},
   "outputs": [],
   "source": [
    "X_train, X_test, y_train, y_test = train_test_split(X, y,test_size=.2,random_state=123)"
   ]
  },
  {
   "cell_type": "markdown",
   "metadata": {},
   "source": [
    "## Model"
   ]
  },
  {
   "cell_type": "markdown",
   "metadata": {},
   "source": [
    "### Building Model"
   ]
  },
  {
   "cell_type": "code",
   "execution_count": null,
   "metadata": {},
   "outputs": [],
   "source": [
    "model = XGBClassifier()\n",
    "\n",
    "# Train the model\n",
    "model.fit(X_train, y_train)"
   ]
  },
  {
   "cell_type": "markdown",
   "metadata": {},
   "source": [
    "### Training Model"
   ]
  },
  {
   "cell_type": "code",
   "execution_count": null,
   "metadata": {},
   "outputs": [],
   "source": [
    "from sklearn.metrics import accuracy_score\n",
    "\n",
    "y_pred = model.predict(X_test)\n",
    "accuracy = accuracy_score(y_test, y_pred)\n",
    "print(f\"Accuracy: {accuracy:.2f}\")"
   ]
  },
  {
   "cell_type": "markdown",
   "metadata": {},
   "source": [
    "## Saving Model (Google Cloud Storage Bucket)"
   ]
  },
  {
   "cell_type": "code",
   "execution_count": null,
   "metadata": {},
   "outputs": [],
   "source": [
    "import pickle\n",
    "from google.cloud import storage\n",
    "import io\n",
    "\n",
    "REPOSITORY_NAME = 'custom-training'\n",
    "MODEL_NAME = 'titanic_survival_classifier'\n",
    "DESTINATION_BLOB_NAME = f'models/{MODEL_NAME}.pkl'\n",
    "\n",
    "storage_client = storage.Client(project=PROJECT_ID)\n",
    "\n",
    "BUCKET_NAME = f'{PROJECT_ID}-{REPOSITORY_NAME}'\n",
    "\n",
    "bucket = storage_client.get_bucket(BUCKET_NAME)\n",
    "\n",
    "model_buffer = io.BytesIO()\n",
    "pickle.dump(model, model_buffer)\n",
    "model_buffer.seek(0)\n",
    "\n",
    "# Upload the buffer content to a Google Cloud Storage Bucket\n",
    "blob = bucket.blob(DESTINATION_BLOB_NAME)\n",
    "blob.upload_from_file(model_buffer, content_type='application/octet-stream')\n",
    "\n",
    "print(f\"Model uploaded to {BUCKET_NAME}/{DESTINATION_BLOB_NAME}\")\n"
   ]
  }
 ],
 "metadata": {
  "kernelspec": {
   "display_name": "Python 3",
   "language": "python",
   "name": "python3"
  },
  "language_info": {
   "codemirror_mode": {
    "name": "ipython",
    "version": 3
   },
   "file_extension": ".py",
   "mimetype": "text/x-python",
   "name": "python",
   "nbconvert_exporter": "python",
   "pygments_lexer": "ipython3",
   "version": "3.12.0"
  }
 },
 "nbformat": 4,
 "nbformat_minor": 2
}
